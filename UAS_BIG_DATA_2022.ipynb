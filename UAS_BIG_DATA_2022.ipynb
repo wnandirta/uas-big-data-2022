{
  "nbformat": 4,
  "nbformat_minor": 0,
  "metadata": {
    "colab": {
      "name": "UAS_BIG DATA_2022.ipynb",
      "provenance": [],
      "collapsed_sections": []
    },
    "kernelspec": {
      "name": "python3",
      "display_name": "Python 3"
    },
    "language_info": {
      "name": "python"
    }
  },
  "cells": [
    {
      "cell_type": "code",
      "execution_count": 2,
      "metadata": {
        "id": "2eK84DjD9E8r"
      },
      "outputs": [],
      "source": [
        "!apt-get install openjdk-8-jdk-headless -qq > /dev/null "
      ]
    },
    {
      "cell_type": "code",
      "source": [
        "!wget -q https://dlcdn.apache.org/spark/spark-3.2.1/spark-3.2.1-bin-hadoop3.2.tgz"
      ],
      "metadata": {
        "id": "AWPh9LBe9u5k"
      },
      "execution_count": 3,
      "outputs": []
    },
    {
      "cell_type": "code",
      "source": [
        "!tar xf spark-3.2.1-bin-hadoop3.2.tgz"
      ],
      "metadata": {
        "id": "nT4Y9vLg-EuN"
      },
      "execution_count": 4,
      "outputs": []
    },
    {
      "cell_type": "code",
      "source": [
        "import os\n",
        "os.environ[\"JAVA HOME\"] = \"/usr/lib/jvm/java-8-openjdk-amd64\"\n",
        "os.environ[\"SPARK_HOME\"] = \"/content/spark-3.2.1-bin-hadoop3.2\""
      ],
      "metadata": {
        "id": "gcLrBBhi9w_7"
      },
      "execution_count": 5,
      "outputs": []
    },
    {
      "cell_type": "code",
      "source": [
        "!pip install -q findspark"
      ],
      "metadata": {
        "id": "xB_5E06891gG"
      },
      "execution_count": 6,
      "outputs": []
    },
    {
      "cell_type": "code",
      "source": [
        "import findspark\n",
        "findspark.init()\n",
        "\n",
        "from pyspark.sql import SparkSession\n",
        "spark = SparkSession.builder\\\n",
        "        .master(\"local\")\\\n",
        "        .appName(\"Colab\")\\\n",
        "        .config('spark.ui.port', '4050')\\\n",
        "        .getOrCreate()"
      ],
      "metadata": {
        "id": "c_Fgb41C92bU"
      },
      "execution_count": 7,
      "outputs": []
    },
    {
      "cell_type": "code",
      "source": [
        "import pandas as pd\n",
        "import numpy as np\n",
        "\n",
        "import matplotlib.pyplot as plt\n",
        "import matplotlib\n",
        "import seaborn as sns\n",
        "import warnings\n",
        "warnings.simplefilter(action='ignore', category=FutureWarning)\n",
        "warnings.simplefilter(action='ignore', category=UserWarning)\n",
        "sns.set(style=\"white\")\n",
        "\n",
        "\n",
        "import plotly\n",
        "import plotly.graph_objects as go\n",
        "import plotly.express as px\n",
        "from plotly.subplots import make_subplots\n",
        "import plotly.figure_factory as ff\n",
        "\n",
        "from plotly.offline import plot, iplot, init_notebook_mode\n",
        "init_notebook_mode(connected=True)"
      ],
      "metadata": {
        "colab": {
          "base_uri": "https://localhost:8080/",
          "height": 17
        },
        "id": "S5JU0w8v-Lh8",
        "outputId": "b0ebd302-1f31-4387-a4a7-077a7b0a81f4"
      },
      "execution_count": 8,
      "outputs": [
        {
          "output_type": "display_data",
          "data": {
            "text/html": [
              "        <script type=\"text/javascript\">\n",
              "        window.PlotlyConfig = {MathJaxConfig: 'local'};\n",
              "        if (window.MathJax) {MathJax.Hub.Config({SVG: {font: \"STIX-Web\"}});}\n",
              "        if (typeof require !== 'undefined') {\n",
              "        require.undef(\"plotly\");\n",
              "        requirejs.config({\n",
              "            paths: {\n",
              "                'plotly': ['https://cdn.plot.ly/plotly-2.8.3.min']\n",
              "            }\n",
              "        });\n",
              "        require(['plotly'], function(Plotly) {\n",
              "            window._Plotly = Plotly;\n",
              "        });\n",
              "        }\n",
              "        </script>\n",
              "        "
            ]
          },
          "metadata": {}
        }
      ]
    },
    {
      "cell_type": "code",
      "source": [
        "!ls data/Stores.csv"
      ],
      "metadata": {
        "colab": {
          "base_uri": "https://localhost:8080/"
        },
        "id": "_jteeSB3BHqJ",
        "outputId": "ff0981e0-1721-4387-c8c5-dfdbc5ce32ad"
      },
      "execution_count": 20,
      "outputs": [
        {
          "output_type": "stream",
          "name": "stdout",
          "text": [
            "data/Stores.csv\n"
          ]
        }
      ]
    },
    {
      "cell_type": "code",
      "source": [
        "df = spark.read.csv(\"data/Stores.csv\")"
      ],
      "metadata": {
        "id": "XPCu02rS95p_"
      },
      "execution_count": 21,
      "outputs": []
    },
    {
      "cell_type": "code",
      "source": [
        "df.printSchema()"
      ],
      "metadata": {
        "colab": {
          "base_uri": "https://localhost:8080/"
        },
        "id": "zCioWeyTBjzO",
        "outputId": "63e42b1e-4a06-4338-d89e-d27f2c613151"
      },
      "execution_count": 22,
      "outputs": [
        {
          "output_type": "stream",
          "name": "stdout",
          "text": [
            "root\n",
            " |-- _c0: string (nullable = true)\n",
            " |-- _c1: string (nullable = true)\n",
            " |-- _c2: string (nullable = true)\n",
            " |-- _c3: string (nullable = true)\n",
            " |-- _c4: string (nullable = true)\n",
            "\n"
          ]
        }
      ]
    },
    {
      "cell_type": "code",
      "source": [
        "df.show(15,False)"
      ],
      "metadata": {
        "colab": {
          "base_uri": "https://localhost:8080/"
        },
        "id": "IIewAyBFB8hs",
        "outputId": "f3c1ad31-5781-49ee-8cf5-70d35eb7d791"
      },
      "execution_count": 23,
      "outputs": [
        {
          "output_type": "stream",
          "name": "stdout",
          "text": [
            "+---------+----------+---------------+--------------------+-----------+\n",
            "|_c0      |_c1       |_c2            |_c3                 |_c4        |\n",
            "+---------+----------+---------------+--------------------+-----------+\n",
            "|Store ID |Store_Area|Items_Available|Daily_Customer_Count|Store_Sales|\n",
            "|1        |1659      |1961           |530                 |66490      |\n",
            "|2        |1461      |1752           |210                 |39820      |\n",
            "|3        |1340      |1609           |720                 |54010      |\n",
            "|4        |1451      |1748           |620                 |53730      |\n",
            "|5        |1770      |2111           |450                 |46620      |\n",
            "|6        |1442      |1733           |760                 |45260      |\n",
            "|7        |1542      |1858           |1030                |72240      |\n",
            "|8        |1261      |1507           |1020                |37720      |\n",
            "|9        |1090      |1321           |680                 |46310      |\n",
            "|10       |1030      |1235           |1130                |44150      |\n",
            "|11       |1187      |1439           |1090                |71280      |\n",
            "|12       |1751      |2098           |720                 |57620      |\n",
            "|13       |1746      |2064           |1050                |60470      |\n",
            "|14       |1615      |1931           |1160                |59130      |\n",
            "+---------+----------+---------------+--------------------+-----------+\n",
            "only showing top 15 rows\n",
            "\n"
          ]
        }
      ]
    },
    {
      "cell_type": "code",
      "source": [
        "df.count()"
      ],
      "metadata": {
        "colab": {
          "base_uri": "https://localhost:8080/"
        },
        "id": "EfRvojyACBMA",
        "outputId": "36f6130b-2038-4a3b-9294-c35ba1ae9aa5"
      },
      "execution_count": 14,
      "outputs": [
        {
          "output_type": "execute_result",
          "data": {
            "text/plain": [
              "171"
            ]
          },
          "metadata": {},
          "execution_count": 14
        }
      ]
    },
    {
      "cell_type": "code",
      "source": [
        "df.select(\"_c1\", \"_c2\", \"_c3\", \"_c4\").show(15)"
      ],
      "metadata": {
        "colab": {
          "base_uri": "https://localhost:8080/"
        },
        "id": "TSVZp-OBCC1E",
        "outputId": "ce4f0876-4226-43e5-dc56-41569be4d83f"
      },
      "execution_count": 24,
      "outputs": [
        {
          "output_type": "stream",
          "name": "stdout",
          "text": [
            "+----------+---------------+--------------------+-----------+\n",
            "|       _c1|            _c2|                 _c3|        _c4|\n",
            "+----------+---------------+--------------------+-----------+\n",
            "|Store_Area|Items_Available|Daily_Customer_Count|Store_Sales|\n",
            "|      1659|           1961|                 530|      66490|\n",
            "|      1461|           1752|                 210|      39820|\n",
            "|      1340|           1609|                 720|      54010|\n",
            "|      1451|           1748|                 620|      53730|\n",
            "|      1770|           2111|                 450|      46620|\n",
            "|      1442|           1733|                 760|      45260|\n",
            "|      1542|           1858|                1030|      72240|\n",
            "|      1261|           1507|                1020|      37720|\n",
            "|      1090|           1321|                 680|      46310|\n",
            "|      1030|           1235|                1130|      44150|\n",
            "|      1187|           1439|                1090|      71280|\n",
            "|      1751|           2098|                 720|      57620|\n",
            "|      1746|           2064|                1050|      60470|\n",
            "|      1615|           1931|                1160|      59130|\n",
            "+----------+---------------+--------------------+-----------+\n",
            "only showing top 15 rows\n",
            "\n"
          ]
        }
      ]
    },
    {
      "cell_type": "code",
      "source": [
        "df_filtered = df.filter(\"_c2 > 171 AND _c4 > 7 AND _c1 IS NOT NULL\")\n",
        "df_filtered.select(\"_c1\", \"_c3\", \"_c4\", \"_c2\").show(100, False)"
      ],
      "metadata": {
        "colab": {
          "base_uri": "https://localhost:8080/"
        },
        "id": "iTrpKp1mDAHm",
        "outputId": "29e1ac13-b1a3-4e0b-8f46-8e88b071daa2"
      },
      "execution_count": 25,
      "outputs": [
        {
          "output_type": "stream",
          "name": "stdout",
          "text": [
            "+----+----+-----+----+\n",
            "|_c1 |_c3 |_c4  |_c2 |\n",
            "+----+----+-----+----+\n",
            "|1659|530 |66490|1961|\n",
            "|1461|210 |39820|1752|\n",
            "|1340|720 |54010|1609|\n",
            "|1451|620 |53730|1748|\n",
            "|1770|450 |46620|2111|\n",
            "|1442|760 |45260|1733|\n",
            "|1542|1030|72240|1858|\n",
            "|1261|1020|37720|1507|\n",
            "|1090|680 |46310|1321|\n",
            "|1030|1130|44150|1235|\n",
            "|1187|1090|71280|1439|\n",
            "|1751|720 |57620|2098|\n",
            "|1746|1050|60470|2064|\n",
            "|1615|1160|59130|1931|\n",
            "|1469|770 |66360|1756|\n",
            "|1644|790 |78870|1950|\n",
            "|1578|1440|77250|1907|\n",
            "|1703|670 |38170|2045|\n",
            "|1438|1030|63540|1731|\n",
            "|1940|980 |40190|2340|\n",
            "|1421|370 |43460|1700|\n",
            "|1458|690 |68890|1746|\n",
            "|1719|950 |52780|2065|\n",
            "|1449|620 |50680|1752|\n",
            "|1234|840 |41880|1488|\n",
            "|1732|820 |70050|2073|\n",
            "|1475|1100|25820|1777|\n",
            "|1390|980 |60530|1648|\n",
            "|1642|710 |78100|1943|\n",
            "|1715|650 |84860|2071|\n",
            "|1439|990 |80140|1746|\n",
            "|1250|990 |14920|1508|\n",
            "|1331|880 |60460|1608|\n",
            "|1784|620 |74560|2163|\n",
            "|1375|1020|72430|1648|\n",
            "|1871|700 |45460|2230|\n",
            "|1442|610 |41570|1744|\n",
            "|1174|1080|62870|1411|\n",
            "|1839|1010|55170|2204|\n",
            "|1270|10  |45480|1516|\n",
            "|1435|1250|49550|1725|\n",
            "|965 |600 |48140|1152|\n",
            "|1665|730 |67640|2001|\n",
            "|1780|780 |39730|2117|\n",
            "|1009|520 |35800|1194|\n",
            "|1227|870 |49270|1471|\n",
            "|1769|690 |66510|2087|\n",
            "|1660|910 |62530|1982|\n",
            "|1472|1260|59980|1776|\n",
            "|1408|1040|76350|1688|\n",
            "|1514|910 |81820|1820|\n",
            "|1565|1300|57830|1880|\n",
            "|1074|320 |70450|1288|\n",
            "|1864|530 |67000|2240|\n",
            "|1570|980 |64090|1898|\n",
            "|1417|740 |48670|1701|\n",
            "|1734|1240|66210|2060|\n",
            "|1470|1080|83660|1763|\n",
            "|1761|1080|70770|2104|\n",
            "|1756|460 |53870|2070|\n",
            "|1704|300 |71300|2045|\n",
            "|2011|530 |46100|2391|\n",
            "|1472|600 |49100|1748|\n",
            "|1310|860 |65920|1561|\n",
            "|1544|590 |58660|1821|\n",
            "|1707|920 |69130|2052|\n",
            "|1881|570 |49080|2262|\n",
            "|1416|290 |72710|1681|\n",
            "|1631|650 |33430|1941|\n",
            "|1318|710 |42430|1576|\n",
            "|1692|850 |56650|2019|\n",
            "|1152|530 |33580|1380|\n",
            "|891 |630 |67370|1073|\n",
            "|1468|700 |71780|1749|\n",
            "|1539|650 |84840|1833|\n",
            "|1635|720 |82070|1956|\n",
            "|1267|450 |26770|1520|\n",
            "|1250|1390|65560|1475|\n",
            "|1720|960 |38660|2044|\n",
            "|1462|600 |65660|1761|\n",
            "|1431|620 |40700|1711|\n",
            "|1539|1020|88910|1858|\n",
            "|1441|330 |57860|1723|\n",
            "|1572|1410|42670|1884|\n",
            "|1287|1200|90180|1525|\n",
            "|1468|280 |51280|1760|\n",
            "|1931|940 |97260|2342|\n",
            "|1252|850 |39650|1506|\n",
            "|1238|960 |45720|1468|\n",
            "|1479|420 |42060|1758|\n",
            "|1590|830 |65350|1912|\n",
            "|2169|600 |67080|2617|\n",
            "|1838|400 |54030|2205|\n",
            "|1385|760 |56360|1655|\n",
            "|1921|1470|77120|2305|\n",
            "|1975|500 |50810|2385|\n",
            "|1853|1120|60960|2235|\n",
            "|1816|1160|61180|2171|\n",
            "|1785|820 |63660|2147|\n",
            "|1579|1140|41190|1899|\n",
            "+----+----+-----+----+\n",
            "only showing top 100 rows\n",
            "\n"
          ]
        }
      ]
    },
    {
      "cell_type": "code",
      "source": [
        "from pyspark.sql import functions as f\n",
        "maxValue = df_filtered.agg(f.max(\"_c4\")).collect()[0][0]\n",
        "print(\"maxValue: \",maxValue)\n",
        "df_filtered.select(\"_c1\",\"_c3\", \"_c4\", \"_c2\").filter(df._c4 == maxValue).show(100, False)"
      ],
      "metadata": {
        "colab": {
          "base_uri": "https://localhost:8080/"
        },
        "id": "LYfbgMaoDRwn",
        "outputId": "600257d4-7132-4f38-8c1d-662273ee31c3"
      },
      "execution_count": 28,
      "outputs": [
        {
          "output_type": "stream",
          "name": "stdout",
          "text": [
            "maxValue:  99570\n",
            "+----+---+-----+----+\n",
            "|_c1 |_c3|_c4  |_c2 |\n",
            "+----+---+-----+----+\n",
            "|1465|680|99570|1763|\n",
            "+----+---+-----+----+\n",
            "\n"
          ]
        }
      ]
    },
    {
      "cell_type": "code",
      "source": [
        "df.filter(\"_c4=\"+str(df.agg(f.min(\"_c4\")).collect()[0][0])).show()"
      ],
      "metadata": {
        "colab": {
          "base_uri": "https://localhost:8080/"
        },
        "id": "AfdO6GsFDlYA",
        "outputId": "1e4094c4-b7cc-4d69-badd-9119a82e584c"
      },
      "execution_count": 30,
      "outputs": [
        {
          "output_type": "stream",
          "name": "stdout",
          "text": [
            "+---+----+----+---+------+\n",
            "|_c0| _c1| _c2|_c3|   _c4|\n",
            "+---+----+----+---+------+\n",
            "|867|1565|1854|900|100900|\n",
            "+---+----+----+---+------+\n",
            "\n"
          ]
        }
      ]
    },
    {
      "cell_type": "code",
      "source": [
        "df.groupBy('_c3').count().sort(df._c3).show()"
      ],
      "metadata": {
        "colab": {
          "base_uri": "https://localhost:8080/"
        },
        "id": "ZI8BP5vbDost",
        "outputId": "02a64266-23bd-457c-f9a3-37430bef31f2"
      },
      "execution_count": 37,
      "outputs": [
        {
          "output_type": "stream",
          "name": "stdout",
          "text": [
            "+----+-----+\n",
            "| _c3|count|\n",
            "+----+-----+\n",
            "|  10|    1|\n",
            "| 100|    1|\n",
            "|1000|    8|\n",
            "|1010|    6|\n",
            "|1020|   13|\n",
            "|1030|    7|\n",
            "|1040|    6|\n",
            "|1050|    7|\n",
            "|1060|    7|\n",
            "|1070|   13|\n",
            "|1080|   11|\n",
            "|1090|    6|\n",
            "|1100|    4|\n",
            "|1110|    6|\n",
            "|1120|    5|\n",
            "|1130|    4|\n",
            "|1140|    8|\n",
            "|1150|    3|\n",
            "|1160|    6|\n",
            "|1170|    7|\n",
            "+----+-----+\n",
            "only showing top 20 rows\n",
            "\n"
          ]
        }
      ]
    }
  ]
}